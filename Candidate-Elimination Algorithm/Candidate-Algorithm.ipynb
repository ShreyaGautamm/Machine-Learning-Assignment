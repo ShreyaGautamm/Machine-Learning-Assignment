{
 "cells": [
  {
   "cell_type": "markdown",
   "id": "2dcc5c0d",
   "metadata": {},
   "source": [
    "## Candidate-Elimination Algorithm"
   ]
  },
  {
   "cell_type": "code",
   "execution_count": 1,
   "id": "5e97f323",
   "metadata": {},
   "outputs": [],
   "source": [
    "#importing libraries\n",
    "import numpy as np\n",
    "import pandas as pd"
   ]
  },
  {
   "cell_type": "code",
   "execution_count": 2,
   "id": "8ed199cd",
   "metadata": {},
   "outputs": [
    {
     "name": "stdout",
     "output_type": "stream",
     "text": [
      "   AMBIENCE VEG/NONVEG  CUISINE      PRICE HYGIENE PREFERRED?\n",
      "0  PLEASANT     NONVEG   INDIAN     MODEST    HIGH        YES\n",
      "1  PLEASANT     NONVEG  CHINESE  EXPENSIVE     LOW         NO\n",
      "2   CROWDED        VEG  MAXICAN      CHEAP     LOW         NO\n",
      "3  PLEASANT     NONVEG  ITALIAN     MODEST    HIGH        YES\n",
      "4   CROWDED        VEG  ITALIAN  EXPENSIVE     LOW         NO\n",
      "5   CROWDED     NONVEG  MAXICAN     MODEST    HIGH        YES\n",
      "6  PLEASANT        VEG  CHINESE      CHEAP     LOW         NO\n",
      "7  PLEASANT     NONVEG   INDIAN     MODEST    HIGH        YES\n"
     ]
    }
   ],
   "source": [
    "#We will be using the same dataset that we created for FindS Algorithm\n",
    "\n",
    "#reading data from the csv file\n",
    "data = pd.read_csv('FINDS')\n",
    "print(data)"
   ]
  },
  {
   "cell_type": "code",
   "execution_count": 3,
   "id": "e0fbaf4a",
   "metadata": {},
   "outputs": [
    {
     "name": "stdout",
     "output_type": "stream",
     "text": [
      "The attributes are: \n",
      " [['PLEASANT' 'NONVEG' 'INDIAN' 'MODEST' 'HIGH']\n",
      " ['PLEASANT' 'NONVEG' 'CHINESE' 'EXPENSIVE' 'LOW']\n",
      " ['CROWDED' 'VEG' 'MAXICAN' 'CHEAP' 'LOW']\n",
      " ['PLEASANT' 'NONVEG' 'ITALIAN' 'MODEST' 'HIGH']\n",
      " ['CROWDED' 'VEG' 'ITALIAN' 'EXPENSIVE' 'LOW']\n",
      " ['CROWDED' 'NONVEG' 'MAXICAN' 'MODEST' 'HIGH']\n",
      " ['PLEASANT' 'VEG' 'CHINESE' 'CHEAP' 'LOW']\n",
      " ['PLEASANT' 'NONVEG' 'INDIAN' 'MODEST' 'HIGH']]\n"
     ]
    }
   ],
   "source": [
    "#array of all the attributes\n",
    "concept = np.array(data)[:,:-1]\n",
    "print(\"The attributes are: \\n\",concept)"
   ]
  },
  {
   "cell_type": "code",
   "execution_count": 4,
   "id": "86c860a7",
   "metadata": {},
   "outputs": [
    {
     "name": "stdout",
     "output_type": "stream",
     "text": [
      "The target is:  ['YES' 'NO' 'NO' 'YES' 'NO' 'YES' 'NO' 'YES']\n"
     ]
    }
   ],
   "source": [
    "#Our target is 'Preferred' column\n",
    "\n",
    "#Taking out target into separate dataframe\n",
    "target = np.array(data)[:,-1]\n",
    "print(\"The target is: \",target)"
   ]
  },
  {
   "cell_type": "code",
   "execution_count": 5,
   "id": "d5a76bd0",
   "metadata": {},
   "outputs": [],
   "source": [
    "#Now we train the function to implement Candidate-Elimination Algorithm\n",
    "\n",
    "def train(c,t):\n",
    "    \n",
    "    '''c= a dataframe with all the attributes\n",
    "       t= a dataframe with output values'''\n",
    "    \n",
    "    #First we initialise Specific Hypothesis and General Hypothesis\n",
    "    for i, val in enumerate(t):\n",
    "        if val == \"YES\":\n",
    "            specific_h = c[i].copy()\n",
    "            break\n",
    "            \n",
    "    general_h = [[\"?\" for i in range(len(specific_h))] for i in range(len(specific_h))]\n",
    "    \n",
    "    print(\"General Hypothesis is: \\n\", general_h)\n",
    "    print(\"Specific Hypothesis is: \\n\", specific_h)\n",
    "    \n",
    "    #training iterations\n",
    "    for i, val in enumerate(c):\n",
    "\n",
    "        # Checking if the hypothesis has a positive target\n",
    "        if t[i] == \"YES\":\n",
    "            for x in range(len(specific_h)):\n",
    "                # Change values in S & G only if values change\n",
    "                if val[x] != specific_h[x]:\n",
    "                    specific_h[x] = '?'\n",
    "                    general_h[x][x] = '?'\n",
    "\n",
    "        # Checking if the hypothesis has a negative target\n",
    "        if t[i] == \"NO\":\n",
    "            for x in range(len(specific_h)):\n",
    "                # For negative hyposthesis change values only in G\n",
    "                if val[x] != specific_h[x]:\n",
    "                    general_h[x][x] = specific_h[x]\n",
    "                else:\n",
    "                    general_h[x][x] = '?'\n",
    "\n",
    "        print(\"\\nInstance\",i+1,\":\")\n",
    "        print(specific_h)\n",
    "        print(general_h)\n",
    "        \n",
    "    \n",
    "     # Indices where we have empty rows, meaning those that are unchanged\n",
    "    indices = [i for i, val in enumerate(general_h) if val == ['?', '?', '?', '?', '?', '?']]\n",
    "    for i in indices:\n",
    "        # remove those rows from general_h\n",
    "        general_h.remove(['?', '?', '?', '?', '?', '?'])\n",
    "    \n",
    "    \n",
    "    # Return final values\n",
    "    return specific_h, general_h"
   ]
  },
  {
   "cell_type": "code",
   "execution_count": 6,
   "id": "793b0890",
   "metadata": {},
   "outputs": [
    {
     "name": "stdout",
     "output_type": "stream",
     "text": [
      "General Hypothesis is: \n",
      " [['?', '?', '?', '?', '?'], ['?', '?', '?', '?', '?'], ['?', '?', '?', '?', '?'], ['?', '?', '?', '?', '?'], ['?', '?', '?', '?', '?']]\n",
      "Specific Hypothesis is: \n",
      " ['PLEASANT' 'NONVEG' 'INDIAN' 'MODEST' 'HIGH']\n",
      "\n",
      "Instance 1 :\n",
      "['PLEASANT' 'NONVEG' 'INDIAN' 'MODEST' 'HIGH']\n",
      "[['?', '?', '?', '?', '?'], ['?', '?', '?', '?', '?'], ['?', '?', '?', '?', '?'], ['?', '?', '?', '?', '?'], ['?', '?', '?', '?', '?']]\n",
      "\n",
      "Instance 2 :\n",
      "['PLEASANT' 'NONVEG' 'INDIAN' 'MODEST' 'HIGH']\n",
      "[['?', '?', '?', '?', '?'], ['?', '?', '?', '?', '?'], ['?', '?', 'INDIAN', '?', '?'], ['?', '?', '?', 'MODEST', '?'], ['?', '?', '?', '?', 'HIGH']]\n",
      "\n",
      "Instance 3 :\n",
      "['PLEASANT' 'NONVEG' 'INDIAN' 'MODEST' 'HIGH']\n",
      "[['PLEASANT', '?', '?', '?', '?'], ['?', 'NONVEG', '?', '?', '?'], ['?', '?', 'INDIAN', '?', '?'], ['?', '?', '?', 'MODEST', '?'], ['?', '?', '?', '?', 'HIGH']]\n",
      "\n",
      "Instance 4 :\n",
      "['PLEASANT' 'NONVEG' '?' 'MODEST' 'HIGH']\n",
      "[['PLEASANT', '?', '?', '?', '?'], ['?', 'NONVEG', '?', '?', '?'], ['?', '?', '?', '?', '?'], ['?', '?', '?', 'MODEST', '?'], ['?', '?', '?', '?', 'HIGH']]\n",
      "\n",
      "Instance 5 :\n",
      "['PLEASANT' 'NONVEG' '?' 'MODEST' 'HIGH']\n",
      "[['PLEASANT', '?', '?', '?', '?'], ['?', 'NONVEG', '?', '?', '?'], ['?', '?', '?', '?', '?'], ['?', '?', '?', 'MODEST', '?'], ['?', '?', '?', '?', 'HIGH']]\n",
      "\n",
      "Instance 6 :\n",
      "['?' 'NONVEG' '?' 'MODEST' 'HIGH']\n",
      "[['?', '?', '?', '?', '?'], ['?', 'NONVEG', '?', '?', '?'], ['?', '?', '?', '?', '?'], ['?', '?', '?', 'MODEST', '?'], ['?', '?', '?', '?', 'HIGH']]\n",
      "\n",
      "Instance 7 :\n",
      "['?' 'NONVEG' '?' 'MODEST' 'HIGH']\n",
      "[['?', '?', '?', '?', '?'], ['?', 'NONVEG', '?', '?', '?'], ['?', '?', '?', '?', '?'], ['?', '?', '?', 'MODEST', '?'], ['?', '?', '?', '?', 'HIGH']]\n",
      "\n",
      "Instance 8 :\n",
      "['?' 'NONVEG' '?' 'MODEST' 'HIGH']\n",
      "[['?', '?', '?', '?', '?'], ['?', 'NONVEG', '?', '?', '?'], ['?', '?', '?', '?', '?'], ['?', '?', '?', 'MODEST', '?'], ['?', '?', '?', '?', 'HIGH']]\n",
      "\n",
      "Final General Hypothesis:\n",
      "[['?', '?', '?', '?', '?'], ['?', 'NONVEG', '?', '?', '?'], ['?', '?', '?', '?', '?'], ['?', '?', '?', 'MODEST', '?'], ['?', '?', '?', '?', 'HIGH']]\n",
      "\n",
      "Final Specific Hypothesis:\n",
      "['?' 'NONVEG' '?' 'MODEST' 'HIGH']\n"
     ]
    }
   ],
   "source": [
    "S, G = train(concept, target)\n",
    "print(\"\\nFinal General Hypothesis:\", G, sep=\"\\n\")\n",
    "print(\"\\nFinal Specific Hypothesis:\", S, sep=\"\\n\")"
   ]
  }
 ],
 "metadata": {
  "kernelspec": {
   "display_name": "Python 3 (ipykernel)",
   "language": "python",
   "name": "python3"
  },
  "language_info": {
   "codemirror_mode": {
    "name": "ipython",
    "version": 3
   },
   "file_extension": ".py",
   "mimetype": "text/x-python",
   "name": "python",
   "nbconvert_exporter": "python",
   "pygments_lexer": "ipython3",
   "version": "3.9.5"
  }
 },
 "nbformat": 4,
 "nbformat_minor": 5
}
