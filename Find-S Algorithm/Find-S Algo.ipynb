{
 "cells": [
  {
   "cell_type": "markdown",
   "id": "4d327a92",
   "metadata": {},
   "source": [
    "# Find-S Algorithm"
   ]
  },
  {
   "cell_type": "code",
   "execution_count": 1,
   "id": "51765fc9",
   "metadata": {},
   "outputs": [],
   "source": [
    "# Importing libraries\n",
    "import pandas as pd\n",
    "import numpy as np"
   ]
  },
  {
   "cell_type": "code",
   "execution_count": 2,
   "id": "66ac99d8",
   "metadata": {},
   "outputs": [],
   "source": [
    "#reading excel file\n",
    "d= pd.read_excel('FINDS.xlsx')"
   ]
  },
  {
   "cell_type": "code",
   "execution_count": 3,
   "id": "9adec46f",
   "metadata": {},
   "outputs": [
    {
     "data": {
      "text/html": [
       "<div>\n",
       "<style scoped>\n",
       "    .dataframe tbody tr th:only-of-type {\n",
       "        vertical-align: middle;\n",
       "    }\n",
       "\n",
       "    .dataframe tbody tr th {\n",
       "        vertical-align: top;\n",
       "    }\n",
       "\n",
       "    .dataframe thead th {\n",
       "        text-align: right;\n",
       "    }\n",
       "</style>\n",
       "<table border=\"1\" class=\"dataframe\">\n",
       "  <thead>\n",
       "    <tr style=\"text-align: right;\">\n",
       "      <th></th>\n",
       "      <th>AMBIANCE</th>\n",
       "      <th>VEG/NONVEG</th>\n",
       "      <th>CUISINE</th>\n",
       "      <th>PRICE</th>\n",
       "      <th>HYGIENE</th>\n",
       "      <th>PREFERRED?</th>\n",
       "    </tr>\n",
       "  </thead>\n",
       "  <tbody>\n",
       "    <tr>\n",
       "      <th>0</th>\n",
       "      <td>PLEASANT</td>\n",
       "      <td>NONVEG</td>\n",
       "      <td>INDIAN</td>\n",
       "      <td>MODEST</td>\n",
       "      <td>HIGH</td>\n",
       "      <td>YES</td>\n",
       "    </tr>\n",
       "    <tr>\n",
       "      <th>1</th>\n",
       "      <td>PLEASANT</td>\n",
       "      <td>NONVEG</td>\n",
       "      <td>CHINESE</td>\n",
       "      <td>EXPENSIVE</td>\n",
       "      <td>LOW</td>\n",
       "      <td>NO</td>\n",
       "    </tr>\n",
       "    <tr>\n",
       "      <th>2</th>\n",
       "      <td>CROWDED</td>\n",
       "      <td>VEG</td>\n",
       "      <td>MAXICAN</td>\n",
       "      <td>CHEAP</td>\n",
       "      <td>LOW</td>\n",
       "      <td>NO</td>\n",
       "    </tr>\n",
       "    <tr>\n",
       "      <th>3</th>\n",
       "      <td>PLEASANT</td>\n",
       "      <td>NONVEG</td>\n",
       "      <td>ITALIAN</td>\n",
       "      <td>MODEST</td>\n",
       "      <td>HIGH</td>\n",
       "      <td>YES</td>\n",
       "    </tr>\n",
       "    <tr>\n",
       "      <th>4</th>\n",
       "      <td>CROWDED</td>\n",
       "      <td>VEG</td>\n",
       "      <td>ITALIAN</td>\n",
       "      <td>EXPENSIVE</td>\n",
       "      <td>LOW</td>\n",
       "      <td>NO</td>\n",
       "    </tr>\n",
       "    <tr>\n",
       "      <th>5</th>\n",
       "      <td>CROWDED</td>\n",
       "      <td>NONVEG</td>\n",
       "      <td>MAXICAN</td>\n",
       "      <td>MODEST</td>\n",
       "      <td>HIGH</td>\n",
       "      <td>YES</td>\n",
       "    </tr>\n",
       "    <tr>\n",
       "      <th>6</th>\n",
       "      <td>PLEASANT</td>\n",
       "      <td>VEG</td>\n",
       "      <td>CHINESE</td>\n",
       "      <td>CHEAP</td>\n",
       "      <td>LOW</td>\n",
       "      <td>NO</td>\n",
       "    </tr>\n",
       "    <tr>\n",
       "      <th>7</th>\n",
       "      <td>PLEASANT</td>\n",
       "      <td>NONVEG</td>\n",
       "      <td>INDIAN</td>\n",
       "      <td>MODEST</td>\n",
       "      <td>HIGH</td>\n",
       "      <td>YES</td>\n",
       "    </tr>\n",
       "  </tbody>\n",
       "</table>\n",
       "</div>"
      ],
      "text/plain": [
       "   AMBIANCE VEG/NONVEG  CUISINE      PRICE HYGIENE PREFERRED?\n",
       "0  PLEASANT     NONVEG   INDIAN     MODEST    HIGH        YES\n",
       "1  PLEASANT     NONVEG  CHINESE  EXPENSIVE     LOW         NO\n",
       "2   CROWDED        VEG  MAXICAN      CHEAP     LOW         NO\n",
       "3  PLEASANT     NONVEG  ITALIAN     MODEST    HIGH        YES\n",
       "4   CROWDED        VEG  ITALIAN  EXPENSIVE     LOW         NO\n",
       "5   CROWDED     NONVEG  MAXICAN     MODEST    HIGH        YES\n",
       "6  PLEASANT        VEG  CHINESE      CHEAP     LOW         NO\n",
       "7  PLEASANT     NONVEG   INDIAN     MODEST    HIGH        YES"
      ]
     },
     "execution_count": 3,
     "metadata": {},
     "output_type": "execute_result"
    }
   ],
   "source": [
    "d"
   ]
  },
  {
   "cell_type": "code",
   "execution_count": 4,
   "id": "bfc0fa34",
   "metadata": {},
   "outputs": [
    {
     "name": "stdout",
     "output_type": "stream",
     "text": [
      "   AMBIENCE VEG/NONVEG  CUISINE      PRICE HYGIENE PREFERRED?\n",
      "0  PLEASANT     NONVEG   INDIAN     MODEST    HIGH        YES\n",
      "1  PLEASANT     NONVEG  CHINESE  EXPENSIVE     LOW         NO\n",
      "2   CROWDED        VEG  MAXICAN      CHEAP     LOW         NO\n",
      "3  PLEASANT     NONVEG  ITALIAN     MODEST    HIGH        YES\n",
      "4   CROWDED        VEG  ITALIAN  EXPENSIVE     LOW         NO\n",
      "5   CROWDED     NONVEG  MAXICAN     MODEST    HIGH        YES\n",
      "6  PLEASANT        VEG  CHINESE      CHEAP     LOW         NO\n",
      "7  PLEASANT     NONVEG   INDIAN     MODEST    HIGH        YES\n"
     ]
    }
   ],
   "source": [
    "#reading data in the csv file\n",
    "data = pd.read_csv('FindS')\n",
    "print(data)"
   ]
  },
  {
   "cell_type": "code",
   "execution_count": 5,
   "id": "f475a55c",
   "metadata": {},
   "outputs": [
    {
     "name": "stdout",
     "output_type": "stream",
     "text": [
      "The attributes are: \n",
      " [['PLEASANT' 'NONVEG' 'INDIAN' 'MODEST' 'HIGH']\n",
      " ['PLEASANT' 'NONVEG' 'CHINESE' 'EXPENSIVE' 'LOW']\n",
      " ['CROWDED' 'VEG' 'MAXICAN' 'CHEAP' 'LOW']\n",
      " ['PLEASANT' 'NONVEG' 'ITALIAN' 'MODEST' 'HIGH']\n",
      " ['CROWDED' 'VEG' 'ITALIAN' 'EXPENSIVE' 'LOW']\n",
      " ['CROWDED' 'NONVEG' 'MAXICAN' 'MODEST' 'HIGH']\n",
      " ['PLEASANT' 'VEG' 'CHINESE' 'CHEAP' 'LOW']\n",
      " ['PLEASANT' 'NONVEG' 'INDIAN' 'MODEST' 'HIGH']]\n"
     ]
    }
   ],
   "source": [
    "#array of all the attributes\n",
    "concept = np.array(data)[:,:-1]\n",
    "print(\"The attributes are: \\n\",concept)"
   ]
  },
  {
   "cell_type": "code",
   "execution_count": 6,
   "id": "8e059d05",
   "metadata": {},
   "outputs": [
    {
     "name": "stdout",
     "output_type": "stream",
     "text": [
      "The target is:  ['YES' 'NO' 'NO' 'YES' 'NO' 'YES' 'NO' 'YES']\n"
     ]
    }
   ],
   "source": [
    "#segragating the target that has YES and NO Values. Here in our file it is the 'Preferred?' column\n",
    "target = np.array(data)[:,-1]\n",
    "print(\"The target is: \",target)"
   ]
  },
  {
   "cell_type": "code",
   "execution_count": 7,
   "id": "34c35f7c",
   "metadata": {},
   "outputs": [],
   "source": [
    "#training function to implement find-s algorithm\n",
    "def train(c,t):\n",
    "    \n",
    "    #global specific_h\n",
    "    \n",
    "    for i, val in enumerate(t):\n",
    "        if val == \"YES\":\n",
    "            specific_h = c[i].copy()\n",
    "            break\n",
    "             \n",
    "    for i, val in enumerate(c):\n",
    "        if t[i] == \"YES\":\n",
    "            for x in range(len(specific_h)):\n",
    "                if val[x] != specific_h[x]:\n",
    "                    specific_h[x] = '?'\n",
    "                else:\n",
    "                    pass\n",
    "                \n",
    "    return specific_h\n"
   ]
  },
  {
   "cell_type": "code",
   "execution_count": 8,
   "id": "bf7149ff",
   "metadata": {},
   "outputs": [
    {
     "name": "stdout",
     "output_type": "stream",
     "text": [
      "The most specific hypothesis is:  ['?' 'NONVEG' '?' 'MODEST' 'HIGH']\n"
     ]
    }
   ],
   "source": [
    "print('The most specific hypothesis is: ',train(concept, target))"
   ]
  }
 ],
 "metadata": {
  "kernelspec": {
   "display_name": "Python 3 (ipykernel)",
   "language": "python",
   "name": "python3"
  },
  "language_info": {
   "codemirror_mode": {
    "name": "ipython",
    "version": 3
   },
   "file_extension": ".py",
   "mimetype": "text/x-python",
   "name": "python",
   "nbconvert_exporter": "python",
   "pygments_lexer": "ipython3",
   "version": "3.9.5"
  }
 },
 "nbformat": 4,
 "nbformat_minor": 5
}
